{
 "cells": [
  {
   "cell_type": "code",
   "execution_count": null,
   "metadata": {},
   "outputs": [],
   "source": [
    "import matplotlib.pyplot as plt\n",
    "import csv\n",
    "\n",
    "import pandas as pd\n",
    "\n",
    "csv = pd.read_csv(\"inner/stats.csv\", sep=\";\")"
   ]
  },
  {
   "cell_type": "code",
   "execution_count": null,
   "metadata": {},
   "outputs": [],
   "source": [
    "int_o0 = csv['TaskPerf[Tasks per second]'][0:10]\n",
    "float_o0 = csv['TaskPerf[Tasks per second]'][10:20]\n",
    "double_o0 = csv['TaskPerf[Tasks per second]'][20:30]"
   ]
  },
  {
   "cell_type": "code",
   "execution_count": null,
   "metadata": {},
   "outputs": [],
   "source": [
    "int_o1 = csv['TaskPerf[Tasks per second]'][30:40]\n",
    "float_o1 = csv['TaskPerf[Tasks per second]'][40:50]\n",
    "double_o1 = csv['TaskPerf[Tasks per second]'][50:60]"
   ]
  },
  {
   "cell_type": "code",
   "execution_count": null,
   "metadata": {},
   "outputs": [],
   "source": [
    "int_o2 = csv['TaskPerf[Tasks per second]'][60:70]\n",
    "float_o2 = csv['TaskPerf[Tasks per second]'][70:80]\n",
    "double_o2 = csv['TaskPerf[Tasks per second]'][80:90]"
   ]
  },
  {
   "cell_type": "code",
   "execution_count": null,
   "metadata": {},
   "outputs": [],
   "source": [
    "int_o3 = csv['TaskPerf[Tasks per second]'][90:100]\n",
    "float_o3 = csv['TaskPerf[Tasks per second]'][100:110]\n",
    "double_o3 = csv['TaskPerf[Tasks per second]'][110:120]"
   ]
  },
  {
   "cell_type": "code",
   "execution_count": null,
   "metadata": {},
   "outputs": [],
   "source": [
    "X = [i for i in range(10)]\n",
    "plt.plot(X, int_o0, label=\"int_o0\")\n",
    "plt.plot(X, float_o0, label=\"float_o0\")\n",
    "plt.plot(X, double_o0, label=\"double_o0\")\n",
    "plt.xlabel(\"Number of iteration\")\n",
    "plt.ylabel(\"Perfomance (tasks per second)\")\n",
    "plt.title(\"Perfomance benchmark (O0)\")\n",
    "plt.legend()"
   ]
  },
  {
   "cell_type": "code",
   "execution_count": null,
   "metadata": {},
   "outputs": [],
   "source": [
    "plt.plot(X, int_o1, label=\"int_o1\")\n",
    "plt.plot(X, float_o1, label=\"float_o1\")\n",
    "plt.plot(X, double_o1, label=\"double_o1\")\n",
    "plt.xlabel(\"Number of iteration\")\n",
    "plt.ylabel(\"Perfomance (tasks per second)\")\n",
    "plt.title(\"Perfomance benchmark (O1)\")\n",
    "plt.legend()"
   ]
  },
  {
   "cell_type": "code",
   "execution_count": null,
   "metadata": {},
   "outputs": [],
   "source": [
    "plt.plot(X, int_o2, label=\"int_o2\")\n",
    "plt.plot(X, float_o2, label=\"float_o2\")\n",
    "plt.plot(X, double_o2, label=\"double_o2\")\n",
    "plt.xlabel(\"Number of iteration\")\n",
    "plt.ylabel(\"Perfomance (tasks per second)\")\n",
    "plt.title(\"Perfomance benchmark (O2)\")\n",
    "plt.legend()"
   ]
  },
  {
   "cell_type": "code",
   "execution_count": null,
   "metadata": {},
   "outputs": [],
   "source": [
    "plt.plot(X, int_o3, label=\"int_o3\")\n",
    "plt.plot(X, float_o3, label=\"float_o3\")\n",
    "plt.plot(X, double_o3, label=\"double_o3\")\n",
    "plt.xlabel(\"Number of iteration\")\n",
    "plt.ylabel(\"Perfomance (tasks per second)\")\n",
    "plt.title(\"Perfomance benchmark (O3)\")\n",
    "plt.legend()"
   ]
  },
  {
   "cell_type": "code",
   "execution_count": null,
   "metadata": {},
   "outputs": [],
   "source": [
    "csv['TaskPerf[Tasks per second]'].max()"
   ]
  }
 ],
 "metadata": {
  "kernelspec": {
   "display_name": "Python 3.11.0 64-bit",
   "language": "python",
   "name": "python3"
  },
  "language_info": {
   "codemirror_mode": {
    "name": "ipython",
    "version": 3
   },
   "file_extension": ".py",
   "mimetype": "text/x-python",
   "name": "python",
   "nbconvert_exporter": "python",
   "pygments_lexer": "ipython3",
   "version": "3.11.0"
  },
  "orig_nbformat": 4,
  "vscode": {
   "interpreter": {
    "hash": "f75d63c56fc0988da4de525211fd76d8a6b38521b9e7a7f9dbce495ca5988d2a"
   }
  }
 },
 "nbformat": 4,
 "nbformat_minor": 2
}
