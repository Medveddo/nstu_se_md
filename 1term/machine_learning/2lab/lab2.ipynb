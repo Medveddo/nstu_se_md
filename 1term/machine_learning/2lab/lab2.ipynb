{
 "cells": [
  {
   "cell_type": "code",
   "execution_count": 1,
   "metadata": {},
   "outputs": [],
   "source": [
    "import numpy as np\n",
    "import matplotlib.pyplot as plt\n",
    "import matplotlib.colors as mclr\n",
    "from keras import layers, models\n",
    "\n",
    "\n",
    "def genData(size=500):\n",
    "    # 5-ый вариант\n",
    "    size1 = size // 2\n",
    "    size2 = size - size1\n",
    "    x1 = np.random.rand(size1, 1) * 1.3 - 0.95\n",
    "    y1 = np.asarray(\n",
    "        [3.5 * (i + 0.2) ** 2 - 0.8 + (np.random.rand(1) - 0.5) / 3 for i in x1]\n",
    "    )\n",
    "    data1 = np.hstack((x1, y1))\n",
    "    label1 = np.zeros([size1, 1])\n",
    "    div1 = round(size1 * 0.8)\n",
    "    x2 = np.random.rand(size2, 1) * 1.3 - 0.35\n",
    "    y2 = np.asarray(\n",
    "        [-3.5 * (i - 0.2) ** 2 + 0.8 + (np.random.rand(1) - 0.5) / 3 for i in x2]\n",
    "    )\n",
    "    data2 = np.hstack((x2, y2))\n",
    "    label2 = np.ones([size2, 1])\n",
    "    div2 = round(size2 * 0.8)\n",
    "    div = div1 + div2\n",
    "    order = np.random.permutation(div)\n",
    "    train_data = np.vstack((data1[:div1], data2[:div2]))\n",
    "    test_data = np.vstack((data1[div1:], data2[div2:]))\n",
    "    train_label = np.vstack((label1[:div1], label2[:div2]))\n",
    "    test_label = np.vstack((label1[div1:], label2[div2:]))\n",
    "    return (train_data[order, :], train_label[order, :]), (test_data, test_label)\n",
    "\n",
    "\n",
    "def drawResults(data, label, prediction):\n",
    "    p_label = np.array([round(x[0]) for x in prediction])\n",
    "    plt.scatter(\n",
    "        data[:, 0],\n",
    "        data[:, 1],\n",
    "        s=30,\n",
    "        c=label[:, 0],\n",
    "        cmap=mclr.ListedColormap([\"red\", \"blue\"]),\n",
    "    )\n",
    "    plt.scatter(\n",
    "        data[:, 0],\n",
    "        data[:, 1],\n",
    "        s=10,\n",
    "        c=p_label,\n",
    "        cmap=mclr.ListedColormap([\"red\", \"blue\"]),\n",
    "    )\n",
    "    plt.grid()\n",
    "    plt.show()\n",
    "\n",
    "\n",
    "(train_data, train_labels), (test_data, test_labels) = genData()\n"
   ]
  },
  {
   "cell_type": "markdown",
   "metadata": {},
   "source": [
    "# TODO"
   ]
  },
  {
   "cell_type": "code",
   "execution_count": 7,
   "metadata": {},
   "outputs": [
    {
     "name": "stdout",
     "output_type": "stream",
     "text": [
      "(400, 2)\n"
     ]
    },
    {
     "ename": "IndexError",
     "evalue": "arrays used as indices must be of integer (or boolean) type",
     "output_type": "error",
     "traceback": [
      "\u001b[1;31m---------------------------------------------------------------------------\u001b[0m",
      "\u001b[1;31mIndexError\u001b[0m                                Traceback (most recent call last)",
      "Cell \u001b[1;32mIn [7], line 10\u001b[0m\n\u001b[0;32m      6\u001b[0m         results[i, sequence] \u001b[39m=\u001b[39m \u001b[39m1.0\u001b[39m\n\u001b[0;32m      7\u001b[0m     \u001b[39mreturn\u001b[39;00m results\n\u001b[1;32m---> 10\u001b[0m x_train \u001b[39m=\u001b[39m vectorize_sequences(train_data)  \u001b[39m# векторизация обучающих данных\u001b[39;00m\n\u001b[0;32m     11\u001b[0m x_test \u001b[39m=\u001b[39m vectorize_sequences(test_data)  \u001b[39m# векторизация тестовых данных\u001b[39;00m\n\u001b[0;32m     12\u001b[0m \u001b[39m# векторизация меток данных с вещественным типом\u001b[39;00m\n",
      "Cell \u001b[1;32mIn [7], line 6\u001b[0m, in \u001b[0;36mvectorize_sequences\u001b[1;34m(sequences, dimension)\u001b[0m\n\u001b[0;32m      4\u001b[0m \u001b[39mprint\u001b[39m(results\u001b[39m.\u001b[39mshape)\n\u001b[0;32m      5\u001b[0m \u001b[39mfor\u001b[39;00m i, sequence \u001b[39min\u001b[39;00m \u001b[39menumerate\u001b[39m(sequences):\n\u001b[1;32m----> 6\u001b[0m     results[i, sequence] \u001b[39m=\u001b[39m \u001b[39m1.0\u001b[39m\n\u001b[0;32m      7\u001b[0m \u001b[39mreturn\u001b[39;00m results\n",
      "\u001b[1;31mIndexError\u001b[0m: arrays used as indices must be of integer (or boolean) type"
     ]
    }
   ],
   "source": [
    "# В данном месте необходимо создать модель и обучить ее\n",
    "def vectorize_sequences(sequences, dimension=2):\n",
    "    results = np.zeros((len(sequences), dimension))\n",
    "    print(results.shape)\n",
    "    for i, sequence in enumerate(sequences):\n",
    "        results[i, sequence] = 1.0\n",
    "    return results\n",
    "\n",
    "\n",
    "x_train = vectorize_sequences(train_data)  # векторизация обучающих данных\n",
    "x_test = vectorize_sequences(test_data)  # векторизация тестовых данных\n",
    "# векторизация меток данных с вещественным типом\n",
    "y_train = np.asarray(train_labels).astype(\"float32\")\n",
    "y_test = np.asarray(test_labels).astype(\"float32\")\n"
   ]
  },
  {
   "cell_type": "code",
   "execution_count": null,
   "metadata": {},
   "outputs": [],
   "source": [
    "\n",
    "# создание последовательной модели\n",
    "model = models.Sequential()\n",
    "# добавление слоев\n",
    "model.add(layers.Dense(16, activation=\"relu\", input_shape=(10000,)))\n",
    "model.add(layers.Dense(16, activation=\"relu\"))\n",
    "model.add(layers.Dense(1, activation=\"sigmoid\"))\n",
    "model.compile(optimizer=\"rmsprop\", loss=\"binary_crossentropy\", metrics=[\"accuracy\"])\n",
    "x_val = x_train[:10000]\n",
    "partial_x_train = x_train[10000:]\n",
    "y_val = y_train[:10000]\n",
    "partial_y_train = y_train[10000:]\n",
    "\n"
   ]
  },
  {
   "cell_type": "code",
   "execution_count": null,
   "metadata": {},
   "outputs": [],
   "source": [
    "\n",
    "# Получение ошибки и точности в процессе обучения\n",
    "loss = H.history[\"loss\"]\n",
    "val_loss = H.history[\"val_loss\"]\n",
    "acc = H.history[\"accuracy\"]\n",
    "val_acc = H.history[\"val_accuracy\"]\n",
    "epochs = range(1, len(loss) + 1)\n",
    "# Построение графика ошибки\n",
    "plt.plot(epochs, loss, \"bo\", label=\"Training loss\")\n",
    "plt.plot(epochs, val_loss, \"b\", label=\"Validation loss\")\n",
    "plt.title(\"Training and validation loss\")\n",
    "plt.xlabel(\"Epochs\")\n",
    "plt.ylabel(\"Loss\")\n",
    "plt.legend()\n",
    "plt.show()\n",
    "# Построение графика точности\n",
    "plt.clf()\n",
    "plt.plot(epochs, acc, \"bo\", label=\"Training acc\")\n",
    "plt.plot(epochs, val_acc, \"b\", label=\"Validation acc\")\n",
    "plt.title(\"Training and validation accuracy\")\n",
    "plt.xlabel(\"Epochs\")\n",
    "plt.ylabel(\"Accuracy\")\n",
    "plt.legend()\n",
    "plt.show()\n",
    "# Получение и вывод результатов на тестовом наборе\n",
    "results = model.evaluate(test_data, test_label)\n",
    "print(results)\n",
    "# Вывод результатов бинарной классификации\n",
    "all_data = np.vstack((train_data, test_data))\n",
    "all_label = np.vstack((train_label, test_label))\n",
    "pred = model.predict(all_data)\n",
    "drawResults(all_data, all_label, pred)"
   ]
  }
 ],
 "metadata": {
  "kernelspec": {
   "display_name": "Python 3.10.2 64-bit",
   "language": "python",
   "name": "python3"
  },
  "language_info": {
   "codemirror_mode": {
    "name": "ipython",
    "version": 3
   },
   "file_extension": ".py",
   "mimetype": "text/x-python",
   "name": "python",
   "nbconvert_exporter": "python",
   "pygments_lexer": "ipython3",
   "version": "3.10.2"
  },
  "orig_nbformat": 4,
  "vscode": {
   "interpreter": {
    "hash": "26de051ba29f2982a8de78e945f0abaf191376122a1563185a90213a26c5da77"
   }
  }
 },
 "nbformat": 4,
 "nbformat_minor": 2
}
